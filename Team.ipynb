{
  "nbformat": 4,
  "nbformat_minor": 0,
  "metadata": {
    "colab": {
      "name": "Team",
      "provenance": [],
      "collapsed_sections": [],
      "include_colab_link": true
    },
    "kernelspec": {
      "name": "python3",
      "display_name": "Python 3"
    },
    "accelerator": "GPU"
  },
  "cells": [
    {
      "cell_type": "markdown",
      "metadata": {
        "id": "view-in-github",
        "colab_type": "text"
      },
      "source": [
        "<a href=\"https://colab.research.google.com/github/MostafaNabieh/Brain-tumor-prediction-project/blob/master/Team.ipynb\" target=\"_parent\"><img src=\"https://colab.research.google.com/assets/colab-badge.svg\" alt=\"Open In Colab\"/></a>"
      ]
    },
    {
      "cell_type": "markdown",
      "metadata": {
        "id": "0Uld1IQgwKIL",
        "colab_type": "text"
      },
      "source": [
        "Note\n",
        "- [Colab Only] Means the associated cell is required only if you are running the model on Google Colaboratory"
      ]
    },
    {
      "cell_type": "markdown",
      "metadata": {
        "id": "m-oHUemNtm59",
        "colab_type": "text"
      },
      "source": [
        "## Mount Drive [Colab Only]\n",
        "Mount the google drive to access the dataset stored on drive."
      ]
    },
    {
      "cell_type": "code",
      "metadata": {
        "id": "zYkOcDYNtf-e",
        "colab_type": "code",
        "colab": {
          "base_uri": "https://localhost:8080/",
          "height": 122
        },
        "outputId": "be5208f5-a37a-4a08-a44b-a55f4c6f5c0c"
      },
      "source": [
        "from google.colab import drive\n",
        "drive.mount('/gdrive')"
      ],
      "execution_count": null,
      "outputs": [
        {
          "output_type": "stream",
          "text": [
            "Go to this URL in a browser: https://accounts.google.com/o/oauth2/auth?client_id=947318989803-6bn6qk8qdgf4n4g3pfee6491hc0brc4i.apps.googleusercontent.com&redirect_uri=urn%3aietf%3awg%3aoauth%3a2.0%3aoob&response_type=code&scope=email%20https%3a%2f%2fwww.googleapis.com%2fauth%2fdocs.test%20https%3a%2f%2fwww.googleapis.com%2fauth%2fdrive%20https%3a%2f%2fwww.googleapis.com%2fauth%2fdrive.photos.readonly%20https%3a%2f%2fwww.googleapis.com%2fauth%2fpeopleapi.readonly\n",
            "\n",
            "Enter your authorization code:\n",
            "··········\n",
            "Mounted at /gdrive\n"
          ],
          "name": "stdout"
        }
      ]
    },
    {
      "cell_type": "markdown",
      "metadata": {
        "id": "Psq2s15_wlfJ",
        "colab_type": "text"
      },
      "source": [
        "## Extract the Dataset"
      ]
    },
    {
      "cell_type": "code",
      "metadata": {
        "id": "DuUurNXQtmXT",
        "colab_type": "code",
        "colab": {}
      },
      "source": [
        "import zipfile  # For faster extraction\n",
        "dataset_path = \"/gdrive/My Drive/MICCAI_BraTS_2019_Data_Training.zip\"  # Replace with your dataset path\n",
        "zfile = zipfile.ZipFile(dataset_path)\n",
        "zfile.extractall()"
      ],
      "execution_count": null,
      "outputs": []
    },
    {
      "cell_type": "markdown",
      "metadata": {
        "id": "4NA9UG5zw938",
        "colab_type": "text"
      },
      "source": [
        "## Get required packages\n",
        "- **SimpleITK**: For loading the dataset\n",
        "- **[model.py](https://github.com/IAmSuyogJadhav/3d-mri-brain-tumor-segmentation-using-autoencoder-regularization/)**: The model from BRATS2018 winning paper"
      ]
    },
    {
      "cell_type": "code",
      "metadata": {
        "id": "SqMFpmc6uCjQ",
        "colab_type": "code",
        "colab": {
          "base_uri": "https://localhost:8080/",
          "height": 547
        },
        "outputId": "02b44c56-6217-4444-90cd-dc71c66e8e5a"
      },
      "source": [
        "!pip install simpleitk\n",
        "!pip install keras-segmentation\n",
        "!wget https://github.com/IAmSuyogJadhav/3d-mri-brain-tumor-segmentation-using-autoencoder-regularization/raw/master/model.py"
      ],
      "execution_count": null,
      "outputs": [
        {
          "output_type": "stream",
          "text": [
            "Collecting simpleitk\n",
            "\u001b[?25l  Downloading https://files.pythonhosted.org/packages/f8/d8/53338c34f71020725ffb3557846c80af96c29c03bc883551a2565aa68a7c/SimpleITK-1.2.4-cp36-cp36m-manylinux1_x86_64.whl (42.5MB)\n",
            "\u001b[K     |████████████████████████████████| 42.5MB 72kB/s \n",
            "\u001b[?25hInstalling collected packages: simpleitk\n",
            "Successfully installed simpleitk-1.2.4\n",
            "Collecting keras-segmentation\n",
            "  Downloading https://files.pythonhosted.org/packages/21/31/3f74e929f316ce5ac3fdc69c831fba929bf145a3092e5a8750e1ea9f155f/keras_segmentation-0.2.0.tar.gz\n",
            "Building wheels for collected packages: keras-segmentation\n",
            "  Building wheel for keras-segmentation (setup.py) ... \u001b[?25l\u001b[?25hdone\n",
            "  Created wheel for keras-segmentation: filename=keras_segmentation-0.2.0-cp36-none-any.whl size=25696 sha256=9bd21e7e78244f207e665791b51fedb3fe44fe2c173f9a30d0c566edc13be198\n",
            "  Stored in directory: /root/.cache/pip/wheels/10/43/34/8d5a4aaa8d4479380c3aef57abf90ac47aa1e062c772defa39\n",
            "Successfully built keras-segmentation\n",
            "Installing collected packages: keras-segmentation\n",
            "Successfully installed keras-segmentation-0.2.0\n",
            "--2020-03-02 02:02:52--  https://github.com/IAmSuyogJadhav/3d-mri-brain-tumor-segmentation-using-autoencoder-regularization/raw/master/model.py\n",
            "Resolving github.com (github.com)... 52.74.223.119\n",
            "Connecting to github.com (github.com)|52.74.223.119|:443... connected.\n",
            "HTTP request sent, awaiting response... 302 Found\n",
            "Location: https://raw.githubusercontent.com/IAmSuyogJadhav/3d-mri-brain-tumor-segmentation-using-autoencoder-regularization/master/model.py [following]\n",
            "--2020-03-02 02:02:52--  https://raw.githubusercontent.com/IAmSuyogJadhav/3d-mri-brain-tumor-segmentation-using-autoencoder-regularization/master/model.py\n",
            "Resolving raw.githubusercontent.com (raw.githubusercontent.com)... 151.101.0.133, 151.101.64.133, 151.101.128.133, ...\n",
            "Connecting to raw.githubusercontent.com (raw.githubusercontent.com)|151.101.0.133|:443... connected.\n",
            "HTTP request sent, awaiting response... 200 OK\n",
            "Length: 16490 (16K) [text/plain]\n",
            "Saving to: ‘model.py’\n",
            "\n",
            "model.py            100%[===================>]  16.10K  --.-KB/s    in 0.001s  \n",
            "\n",
            "2020-03-02 02:02:52 (19.7 MB/s) - ‘model.py’ saved [16490/16490]\n",
            "\n"
          ],
          "name": "stdout"
        }
      ]
    },
    {
      "cell_type": "markdown",
      "metadata": {
        "id": "09ARH9U4D2Wy",
        "colab_type": "text"
      },
      "source": [
        "## Imports and helper functions"
      ]
    },
    {
      "cell_type": "code",
      "metadata": {
        "id": "4uAsBShgB3v_",
        "colab_type": "code",
        "colab": {
          "base_uri": "https://localhost:8080/",
          "height": 97
        },
        "outputId": "19ae9030-65f8-49be-e740-1743627d9fe8"
      },
      "source": [
        "import SimpleITK as sitk  # For loading the dataset\n",
        "import numpy as np  # For data manipulation\n",
        "from model import build_model  # For creating the model\n",
        "import glob  # For populating the list of files\n",
        "from scipy.ndimage import zoom  # For resizing\n",
        "import re  # For parsing the filenames (to know their modality)"
      ],
      "execution_count": null,
      "outputs": [
        {
          "output_type": "stream",
          "text": [
            "Using TensorFlow backend.\n"
          ],
          "name": "stderr"
        },
        {
          "output_type": "display_data",
          "data": {
            "text/html": [
              "<p style=\"color: red;\">\n",
              "The default version of TensorFlow in Colab will soon switch to TensorFlow 2.x.<br>\n",
              "We recommend you <a href=\"https://www.tensorflow.org/guide/migrate\" target=\"_blank\">upgrade</a> now \n",
              "or ensure your notebook will continue to use TensorFlow 1.x via the <code>%tensorflow_version 1.x</code> magic:\n",
              "<a href=\"https://colab.research.google.com/notebooks/tensorflow_version.ipynb\" target=\"_blank\">more info</a>.</p>\n"
            ],
            "text/plain": [
              "<IPython.core.display.HTML object>"
            ]
          },
          "metadata": {
            "tags": []
          }
        },
        {
          "output_type": "stream",
          "text": [
            "Downloading group_norm.py in the current directory...\n"
          ],
          "name": "stdout"
        }
      ]
    },
    {
      "cell_type": "code",
      "metadata": {
        "id": "nNNtloQ9B3sA",
        "colab_type": "code",
        "colab": {}
      },
      "source": [
        "def read_img(img_path):\n",
        "    \"\"\"\n",
        "    Reads a .nii.gz image and returns as a numpy array.\n",
        "    \"\"\"\n",
        "    return sitk.GetArrayFromImage(sitk.ReadImage(img_path))"
      ],
      "execution_count": null,
      "outputs": []
    },
    {
      "cell_type": "code",
      "metadata": {
        "id": "fEIRGXpdfssT",
        "colab_type": "code",
        "colab": {}
      },
      "source": [
        "def resize(img, shape, mode='constant', orig_shape=(155, 240, 240)):\n",
        "    \"\"\"\n",
        "    Wrapper for scipy.ndimage.zoom suited for MRI images.\n",
        "    \"\"\"\n",
        "    assert len(shape) == 3, \"Can not have more than 3 dimensions\"\n",
        "    factors = (\n",
        "        shape[0]/orig_shape[0],\n",
        "        shape[1]/orig_shape[1], \n",
        "        shape[2]/orig_shape[2]\n",
        "    )\n",
        "    \n",
        "    # Resize to the given shape\n",
        "    return zoom(img, factors, mode=mode)\n",
        "\n",
        "\n",
        "def preprocess(img, out_shape=None):\n",
        "    \"\"\"\n",
        "    Preprocess the image.\n",
        "    Just an example, you can add more preprocessing steps if you wish to.\n",
        "    \"\"\"\n",
        "    if out_shape is not None:\n",
        "        img = resize(img, out_shape, mode='constant')\n",
        "    \n",
        "    # Normalize the image\n",
        "    mean = img.mean()\n",
        "    std = img.std()\n",
        "    return (img - mean) / std\n",
        "\n",
        "\n",
        "def preprocess_label(img, out_shape=None, mode='nearest'):\n",
        "    \"\"\"\n",
        "    Separates out the 3 labels from the segmentation provided, namely:\n",
        "    GD-enhancing tumor (ET — label 4), the peritumoral edema (ED — label 2))\n",
        "    and the necrotic and non-enhancing tumor core (NCR/NET — label 1)\n",
        "    \"\"\"\n",
        "    ncr = img == 1  # Necrotic and Non-Enhancing Tumor (NCR/NET)\n",
        "    ed = img == 2  # Peritumoral Edema (ED)\n",
        "    et = img == 4  # GD-enhancing Tumor (ET)\n",
        "    \n",
        "    if out_shape is not None:\n",
        "        ncr = resize(ncr, out_shape, mode=mode)\n",
        "        ed = resize(ed, out_shape, mode=mode)\n",
        "        et = resize(et, out_shape, mode=mode)\n",
        "\n",
        "    return np.array([ncr, ed, et], dtype=np.uint8)\n",
        "    "
      ],
      "execution_count": null,
      "outputs": []
    },
    {
      "cell_type": "markdown",
      "metadata": {
        "id": "piRsc9rYYRzl",
        "colab_type": "text"
      },
      "source": [
        "## Loading Data\n"
      ]
    },
    {
      "cell_type": "code",
      "metadata": {
        "id": "7adjWzdCuECK",
        "colab_type": "code",
        "colab": {}
      },
      "source": [
        "# Get a list of files for all modalities individually\n",
        "t1 = glob.glob('MICCAI_BraTS_2019_Data_Training/*GG/*/*t1.nii.gz')\n",
        "t2 = glob.glob('MICCAI_BraTS_2019_Data_Training/*GG/*/*t2.nii.gz')\n",
        "flair = glob.glob('MICCAI_BraTS_2019_Data_Training/*GG/*/*flair.nii.gz')\n",
        "t1ce = glob.glob('MICCAI_BraTS_2019_Data_Training/*GG/*/*t1ce.nii.gz')\n",
        "seg = glob.glob('MICCAI_BraTS_2019_Data_Training/*GG/*/*seg.nii.gz')  # Ground Truth"
      ],
      "execution_count": null,
      "outputs": []
    },
    {
      "cell_type": "markdown",
      "metadata": {
        "id": "x_WhT40dzlHO",
        "colab_type": "text"
      },
      "source": [
        "Parse all the filenames and create a dictionary for each patient with structure:\n",
        "\n",
        "{<br />\n",
        "    &nbsp;&nbsp;&nbsp;&nbsp;'t1': _<path to t1 MRI file&gt;_,<br />\n",
        "    &nbsp;&nbsp;&nbsp;&nbsp;'t2': _<path to t2 MRI&gt;_,<br />\n",
        "    &nbsp;&nbsp;&nbsp;&nbsp;'flair': _<path to FLAIR MRI file&gt;_,<br />\n",
        "    &nbsp;&nbsp;&nbsp;&nbsp;'t1ce': _<path to t1ce MRI file&gt;_,<br />\n",
        "    &nbsp;&nbsp;&nbsp;&nbsp;'seg': _<path to Ground Truth file&gt;_,<br />\n",
        "}<br />"
      ]
    },
    {
      "cell_type": "markdown",
      "metadata": {
        "id": "YfBOZNsAt3ul",
        "colab_type": "text"
      },
      "source": [
        "# Display Data"
      ]
    },
    {
      "cell_type": "code",
      "metadata": {
        "id": "eCnIEZkLuAdI",
        "colab_type": "code",
        "colab": {
          "base_uri": "https://localhost:8080/",
          "height": 1000
        },
        "outputId": "79f99467-1205-456d-d75e-e30bb4b27b9e"
      },
      "source": [
        "t1"
      ],
      "execution_count": null,
      "outputs": [
        {
          "output_type": "execute_result",
          "data": {
            "text/plain": [
              "['MICCAI_BraTS_2019_Data_Training/LGG/BraTS19_2013_16_1/BraTS19_2013_16_1_t1.nii.gz',\n",
              " 'MICCAI_BraTS_2019_Data_Training/LGG/BraTS19_TCIA10_351_1/BraTS19_TCIA10_351_1_t1.nii.gz',\n",
              " 'MICCAI_BraTS_2019_Data_Training/LGG/BraTS19_TCIA10_325_1/BraTS19_TCIA10_325_1_t1.nii.gz',\n",
              " 'MICCAI_BraTS_2019_Data_Training/LGG/BraTS19_TCIA13_642_1/BraTS19_TCIA13_642_1_t1.nii.gz',\n",
              " 'MICCAI_BraTS_2019_Data_Training/LGG/BraTS19_TCIA12_466_1/BraTS19_TCIA12_466_1_t1.nii.gz',\n",
              " 'MICCAI_BraTS_2019_Data_Training/LGG/BraTS19_TCIA10_241_1/BraTS19_TCIA10_241_1_t1.nii.gz',\n",
              " 'MICCAI_BraTS_2019_Data_Training/LGG/BraTS19_TCIA10_387_1/BraTS19_TCIA10_387_1_t1.nii.gz',\n",
              " 'MICCAI_BraTS_2019_Data_Training/LGG/BraTS19_TCIA12_249_1/BraTS19_TCIA12_249_1_t1.nii.gz',\n",
              " 'MICCAI_BraTS_2019_Data_Training/LGG/BraTS19_TCIA10_299_1/BraTS19_TCIA10_299_1_t1.nii.gz',\n",
              " 'MICCAI_BraTS_2019_Data_Training/LGG/BraTS19_TCIA13_624_1/BraTS19_TCIA13_624_1_t1.nii.gz',\n",
              " 'MICCAI_BraTS_2019_Data_Training/LGG/BraTS19_TCIA10_310_1/BraTS19_TCIA10_310_1_t1.nii.gz',\n",
              " 'MICCAI_BraTS_2019_Data_Training/LGG/BraTS19_TCIA13_621_1/BraTS19_TCIA13_621_1_t1.nii.gz',\n",
              " 'MICCAI_BraTS_2019_Data_Training/LGG/BraTS19_TCIA09_493_1/BraTS19_TCIA09_493_1_t1.nii.gz',\n",
              " 'MICCAI_BraTS_2019_Data_Training/LGG/BraTS19_TCIA12_470_1/BraTS19_TCIA12_470_1_t1.nii.gz',\n",
              " 'MICCAI_BraTS_2019_Data_Training/LGG/BraTS19_TCIA10_307_1/BraTS19_TCIA10_307_1_t1.nii.gz',\n",
              " 'MICCAI_BraTS_2019_Data_Training/LGG/BraTS19_TCIA09_254_1/BraTS19_TCIA09_254_1_t1.nii.gz',\n",
              " 'MICCAI_BraTS_2019_Data_Training/LGG/BraTS19_TCIA10_109_1/BraTS19_TCIA10_109_1_t1.nii.gz',\n",
              " 'MICCAI_BraTS_2019_Data_Training/LGG/BraTS19_TCIA10_628_1/BraTS19_TCIA10_628_1_t1.nii.gz',\n",
              " 'MICCAI_BraTS_2019_Data_Training/LGG/BraTS19_TCIA10_130_1/BraTS19_TCIA10_130_1_t1.nii.gz',\n",
              " 'MICCAI_BraTS_2019_Data_Training/LGG/BraTS19_TCIA13_634_1/BraTS19_TCIA13_634_1_t1.nii.gz',\n",
              " 'MICCAI_BraTS_2019_Data_Training/LGG/BraTS19_TCIA09_620_1/BraTS19_TCIA09_620_1_t1.nii.gz',\n",
              " 'MICCAI_BraTS_2019_Data_Training/LGG/BraTS19_TCIA10_276_1/BraTS19_TCIA10_276_1_t1.nii.gz',\n",
              " 'MICCAI_BraTS_2019_Data_Training/LGG/BraTS19_TCIA10_282_1/BraTS19_TCIA10_282_1_t1.nii.gz',\n",
              " 'MICCAI_BraTS_2019_Data_Training/LGG/BraTS19_TCIA09_402_1/BraTS19_TCIA09_402_1_t1.nii.gz',\n",
              " 'MICCAI_BraTS_2019_Data_Training/LGG/BraTS19_TCIA10_639_1/BraTS19_TCIA10_639_1_t1.nii.gz',\n",
              " 'MICCAI_BraTS_2019_Data_Training/LGG/BraTS19_TMC_09043_1/BraTS19_TMC_09043_1_t1.nii.gz',\n",
              " 'MICCAI_BraTS_2019_Data_Training/LGG/BraTS19_TCIA13_650_1/BraTS19_TCIA13_650_1_t1.nii.gz',\n",
              " 'MICCAI_BraTS_2019_Data_Training/LGG/BraTS19_TCIA10_152_1/BraTS19_TCIA10_152_1_t1.nii.gz',\n",
              " 'MICCAI_BraTS_2019_Data_Training/LGG/BraTS19_TCIA10_408_1/BraTS19_TCIA10_408_1_t1.nii.gz',\n",
              " 'MICCAI_BraTS_2019_Data_Training/LGG/BraTS19_2013_9_1/BraTS19_2013_9_1_t1.nii.gz',\n",
              " 'MICCAI_BraTS_2019_Data_Training/LGG/BraTS19_TCIA09_312_1/BraTS19_TCIA09_312_1_t1.nii.gz',\n",
              " 'MICCAI_BraTS_2019_Data_Training/LGG/BraTS19_TCIA09_428_1/BraTS19_TCIA09_428_1_t1.nii.gz',\n",
              " 'MICCAI_BraTS_2019_Data_Training/LGG/BraTS19_TCIA10_420_1/BraTS19_TCIA10_420_1_t1.nii.gz',\n",
              " 'MICCAI_BraTS_2019_Data_Training/LGG/BraTS19_TCIA13_615_1/BraTS19_TCIA13_615_1_t1.nii.gz',\n",
              " 'MICCAI_BraTS_2019_Data_Training/LGG/BraTS19_TCIA13_653_1/BraTS19_TCIA13_653_1_t1.nii.gz',\n",
              " 'MICCAI_BraTS_2019_Data_Training/LGG/BraTS19_TCIA10_449_1/BraTS19_TCIA10_449_1_t1.nii.gz',\n",
              " 'MICCAI_BraTS_2019_Data_Training/LGG/BraTS19_TCIA09_141_1/BraTS19_TCIA09_141_1_t1.nii.gz',\n",
              " 'MICCAI_BraTS_2019_Data_Training/LGG/BraTS19_TCIA12_298_1/BraTS19_TCIA12_298_1_t1.nii.gz',\n",
              " 'MICCAI_BraTS_2019_Data_Training/LGG/BraTS19_TCIA13_633_1/BraTS19_TCIA13_633_1_t1.nii.gz',\n",
              " 'MICCAI_BraTS_2019_Data_Training/LGG/BraTS19_TCIA12_480_1/BraTS19_TCIA12_480_1_t1.nii.gz',\n",
              " 'MICCAI_BraTS_2019_Data_Training/LGG/BraTS19_TCIA10_632_1/BraTS19_TCIA10_632_1_t1.nii.gz',\n",
              " 'MICCAI_BraTS_2019_Data_Training/LGG/BraTS19_2013_6_1/BraTS19_2013_6_1_t1.nii.gz',\n",
              " 'MICCAI_BraTS_2019_Data_Training/LGG/BraTS19_2013_0_1/BraTS19_2013_0_1_t1.nii.gz',\n",
              " 'MICCAI_BraTS_2019_Data_Training/LGG/BraTS19_TCIA10_330_1/BraTS19_TCIA10_330_1_t1.nii.gz',\n",
              " 'MICCAI_BraTS_2019_Data_Training/LGG/BraTS19_2013_28_1/BraTS19_2013_28_1_t1.nii.gz',\n",
              " 'MICCAI_BraTS_2019_Data_Training/LGG/BraTS19_TCIA10_410_1/BraTS19_TCIA10_410_1_t1.nii.gz',\n",
              " 'MICCAI_BraTS_2019_Data_Training/LGG/BraTS19_TCIA10_346_1/BraTS19_TCIA10_346_1_t1.nii.gz',\n",
              " 'MICCAI_BraTS_2019_Data_Training/LGG/BraTS19_TCIA10_413_1/BraTS19_TCIA10_413_1_t1.nii.gz',\n",
              " 'MICCAI_BraTS_2019_Data_Training/LGG/BraTS19_TCIA10_625_1/BraTS19_TCIA10_625_1_t1.nii.gz',\n",
              " 'MICCAI_BraTS_2019_Data_Training/LGG/BraTS19_TCIA10_442_1/BraTS19_TCIA10_442_1_t1.nii.gz',\n",
              " 'MICCAI_BraTS_2019_Data_Training/LGG/BraTS19_TCIA13_654_1/BraTS19_TCIA13_654_1_t1.nii.gz',\n",
              " 'MICCAI_BraTS_2019_Data_Training/LGG/BraTS19_TCIA10_202_1/BraTS19_TCIA10_202_1_t1.nii.gz',\n",
              " 'MICCAI_BraTS_2019_Data_Training/LGG/BraTS19_TCIA10_175_1/BraTS19_TCIA10_175_1_t1.nii.gz',\n",
              " 'MICCAI_BraTS_2019_Data_Training/LGG/BraTS19_TCIA13_623_1/BraTS19_TCIA13_623_1_t1.nii.gz',\n",
              " 'MICCAI_BraTS_2019_Data_Training/LGG/BraTS19_TCIA10_644_1/BraTS19_TCIA10_644_1_t1.nii.gz',\n",
              " 'MICCAI_BraTS_2019_Data_Training/LGG/BraTS19_TCIA13_645_1/BraTS19_TCIA13_645_1_t1.nii.gz',\n",
              " 'MICCAI_BraTS_2019_Data_Training/LGG/BraTS19_2013_8_1/BraTS19_2013_8_1_t1.nii.gz',\n",
              " 'MICCAI_BraTS_2019_Data_Training/LGG/BraTS19_2013_15_1/BraTS19_2013_15_1_t1.nii.gz',\n",
              " 'MICCAI_BraTS_2019_Data_Training/LGG/BraTS19_TCIA10_393_1/BraTS19_TCIA10_393_1_t1.nii.gz',\n",
              " 'MICCAI_BraTS_2019_Data_Training/LGG/BraTS19_TCIA10_266_1/BraTS19_TCIA10_266_1_t1.nii.gz',\n",
              " 'MICCAI_BraTS_2019_Data_Training/LGG/BraTS19_TCIA09_177_1/BraTS19_TCIA09_177_1_t1.nii.gz',\n",
              " 'MICCAI_BraTS_2019_Data_Training/LGG/BraTS19_TCIA09_255_1/BraTS19_TCIA09_255_1_t1.nii.gz',\n",
              " 'MICCAI_BraTS_2019_Data_Training/LGG/BraTS19_TCIA10_637_1/BraTS19_TCIA10_637_1_t1.nii.gz',\n",
              " 'MICCAI_BraTS_2019_Data_Training/LGG/BraTS19_2013_1_1/BraTS19_2013_1_1_t1.nii.gz',\n",
              " 'MICCAI_BraTS_2019_Data_Training/LGG/BraTS19_TCIA10_629_1/BraTS19_TCIA10_629_1_t1.nii.gz',\n",
              " 'MICCAI_BraTS_2019_Data_Training/LGG/BraTS19_TCIA09_462_1/BraTS19_TCIA09_462_1_t1.nii.gz',\n",
              " 'MICCAI_BraTS_2019_Data_Training/LGG/BraTS19_TCIA09_451_1/BraTS19_TCIA09_451_1_t1.nii.gz',\n",
              " 'MICCAI_BraTS_2019_Data_Training/LGG/BraTS19_TCIA13_630_1/BraTS19_TCIA13_630_1_t1.nii.gz',\n",
              " 'MICCAI_BraTS_2019_Data_Training/LGG/BraTS19_TCIA10_640_1/BraTS19_TCIA10_640_1_t1.nii.gz',\n",
              " 'MICCAI_BraTS_2019_Data_Training/LGG/BraTS19_TCIA10_261_1/BraTS19_TCIA10_261_1_t1.nii.gz',\n",
              " 'MICCAI_BraTS_2019_Data_Training/LGG/BraTS19_TCIA13_618_1/BraTS19_TCIA13_618_1_t1.nii.gz',\n",
              " 'MICCAI_BraTS_2019_Data_Training/LGG/BraTS19_TCIA12_101_1/BraTS19_TCIA12_101_1_t1.nii.gz',\n",
              " 'MICCAI_BraTS_2019_Data_Training/LGG/BraTS19_2013_24_1/BraTS19_2013_24_1_t1.nii.gz',\n",
              " 'MICCAI_BraTS_2019_Data_Training/LGG/BraTS19_TCIA10_103_1/BraTS19_TCIA10_103_1_t1.nii.gz',\n",
              " 'MICCAI_BraTS_2019_Data_Training/LGG/BraTS19_2013_29_1/BraTS19_2013_29_1_t1.nii.gz',\n",
              " 'MICCAI_BraTS_2019_Data_Training/LGG/BraTS19_TCIA10_490_1/BraTS19_TCIA10_490_1_t1.nii.gz',\n",
              " 'MICCAI_BraTS_2019_Data_Training/HGG/BraTS19_TCIA01_131_1/BraTS19_TCIA01_131_1_t1.nii.gz',\n",
              " 'MICCAI_BraTS_2019_Data_Training/HGG/BraTS19_TCIA01_335_1/BraTS19_TCIA01_335_1_t1.nii.gz',\n",
              " 'MICCAI_BraTS_2019_Data_Training/HGG/BraTS19_CBICA_ABM_1/BraTS19_CBICA_ABM_1_t1.nii.gz',\n",
              " 'MICCAI_BraTS_2019_Data_Training/HGG/BraTS19_2013_21_1/BraTS19_2013_21_1_t1.nii.gz',\n",
              " 'MICCAI_BraTS_2019_Data_Training/HGG/BraTS19_TCIA02_222_1/BraTS19_TCIA02_222_1_t1.nii.gz',\n",
              " 'MICCAI_BraTS_2019_Data_Training/HGG/BraTS19_CBICA_BDK_1/BraTS19_CBICA_BDK_1_t1.nii.gz',\n",
              " 'MICCAI_BraTS_2019_Data_Training/HGG/BraTS19_TCIA03_296_1/BraTS19_TCIA03_296_1_t1.nii.gz',\n",
              " 'MICCAI_BraTS_2019_Data_Training/HGG/BraTS19_CBICA_ARF_1/BraTS19_CBICA_ARF_1_t1.nii.gz',\n",
              " 'MICCAI_BraTS_2019_Data_Training/HGG/BraTS19_TCIA02_117_1/BraTS19_TCIA02_117_1_t1.nii.gz',\n",
              " 'MICCAI_BraTS_2019_Data_Training/HGG/BraTS19_TCIA05_396_1/BraTS19_TCIA05_396_1_t1.nii.gz',\n",
              " 'MICCAI_BraTS_2019_Data_Training/HGG/BraTS19_CBICA_BLJ_1/BraTS19_CBICA_BLJ_1_t1.nii.gz',\n",
              " 'MICCAI_BraTS_2019_Data_Training/HGG/BraTS19_TCIA02_226_1/BraTS19_TCIA02_226_1_t1.nii.gz',\n",
              " 'MICCAI_BraTS_2019_Data_Training/HGG/BraTS19_CBICA_AOO_1/BraTS19_CBICA_AOO_1_t1.nii.gz',\n",
              " 'MICCAI_BraTS_2019_Data_Training/HGG/BraTS19_2013_5_1/BraTS19_2013_5_1_t1.nii.gz',\n",
              " 'MICCAI_BraTS_2019_Data_Training/HGG/BraTS19_CBICA_BGG_1/BraTS19_CBICA_BGG_1_t1.nii.gz',\n",
              " 'MICCAI_BraTS_2019_Data_Training/HGG/BraTS19_CBICA_AMH_1/BraTS19_CBICA_AMH_1_t1.nii.gz',\n",
              " 'MICCAI_BraTS_2019_Data_Training/HGG/BraTS19_CBICA_BGE_1/BraTS19_CBICA_BGE_1_t1.nii.gz',\n",
              " 'MICCAI_BraTS_2019_Data_Training/HGG/BraTS19_CBICA_ASH_1/BraTS19_CBICA_ASH_1_t1.nii.gz',\n",
              " 'MICCAI_BraTS_2019_Data_Training/HGG/BraTS19_CBICA_ASR_1/BraTS19_CBICA_ASR_1_t1.nii.gz',\n",
              " 'MICCAI_BraTS_2019_Data_Training/HGG/BraTS19_TCIA01_499_1/BraTS19_TCIA01_499_1_t1.nii.gz',\n",
              " 'MICCAI_BraTS_2019_Data_Training/HGG/BraTS19_CBICA_AWI_1/BraTS19_CBICA_AWI_1_t1.nii.gz',\n",
              " 'MICCAI_BraTS_2019_Data_Training/HGG/BraTS19_TMC_21360_1/BraTS19_TMC_21360_1_t1.nii.gz',\n",
              " 'MICCAI_BraTS_2019_Data_Training/HGG/BraTS19_CBICA_BHM_1/BraTS19_CBICA_BHM_1_t1.nii.gz',\n",
              " 'MICCAI_BraTS_2019_Data_Training/HGG/BraTS19_CBICA_ASW_1/BraTS19_CBICA_ASW_1_t1.nii.gz',\n",
              " 'MICCAI_BraTS_2019_Data_Training/HGG/BraTS19_CBICA_AQZ_1/BraTS19_CBICA_AQZ_1_t1.nii.gz',\n",
              " 'MICCAI_BraTS_2019_Data_Training/HGG/BraTS19_TCIA01_378_1/BraTS19_TCIA01_378_1_t1.nii.gz',\n",
              " 'MICCAI_BraTS_2019_Data_Training/HGG/BraTS19_TCIA04_437_1/BraTS19_TCIA04_437_1_t1.nii.gz',\n",
              " 'MICCAI_BraTS_2019_Data_Training/HGG/BraTS19_TCIA06_603_1/BraTS19_TCIA06_603_1_t1.nii.gz',\n",
              " 'MICCAI_BraTS_2019_Data_Training/HGG/BraTS19_TCIA01_190_1/BraTS19_TCIA01_190_1_t1.nii.gz',\n",
              " 'MICCAI_BraTS_2019_Data_Training/HGG/BraTS19_TCIA08_167_1/BraTS19_TCIA08_167_1_t1.nii.gz',\n",
              " 'MICCAI_BraTS_2019_Data_Training/HGG/BraTS19_TMC_06290_1/BraTS19_TMC_06290_1_t1.nii.gz',\n",
              " 'MICCAI_BraTS_2019_Data_Training/HGG/BraTS19_CBICA_BCF_1/BraTS19_CBICA_BCF_1_t1.nii.gz',\n",
              " 'MICCAI_BraTS_2019_Data_Training/HGG/BraTS19_CBICA_AYU_1/BraTS19_CBICA_AYU_1_t1.nii.gz',\n",
              " 'MICCAI_BraTS_2019_Data_Training/HGG/BraTS19_TCIA01_390_1/BraTS19_TCIA01_390_1_t1.nii.gz',\n",
              " 'MICCAI_BraTS_2019_Data_Training/HGG/BraTS19_CBICA_BGR_1/BraTS19_CBICA_BGR_1_t1.nii.gz',\n",
              " 'MICCAI_BraTS_2019_Data_Training/HGG/BraTS19_CBICA_ATN_1/BraTS19_CBICA_ATN_1_t1.nii.gz',\n",
              " 'MICCAI_BraTS_2019_Data_Training/HGG/BraTS19_TCIA01_448_1/BraTS19_TCIA01_448_1_t1.nii.gz',\n",
              " 'MICCAI_BraTS_2019_Data_Training/HGG/BraTS19_CBICA_AXL_1/BraTS19_CBICA_AXL_1_t1.nii.gz',\n",
              " 'MICCAI_BraTS_2019_Data_Training/HGG/BraTS19_TCIA03_265_1/BraTS19_TCIA03_265_1_t1.nii.gz',\n",
              " 'MICCAI_BraTS_2019_Data_Training/HGG/BraTS19_TCIA08_278_1/BraTS19_TCIA08_278_1_t1.nii.gz',\n",
              " 'MICCAI_BraTS_2019_Data_Training/HGG/BraTS19_TCIA06_211_1/BraTS19_TCIA06_211_1_t1.nii.gz',\n",
              " 'MICCAI_BraTS_2019_Data_Training/HGG/BraTS19_2013_18_1/BraTS19_2013_18_1_t1.nii.gz',\n",
              " 'MICCAI_BraTS_2019_Data_Training/HGG/BraTS19_CBICA_AQT_1/BraTS19_CBICA_AQT_1_t1.nii.gz',\n",
              " 'MICCAI_BraTS_2019_Data_Training/HGG/BraTS19_TCIA02_606_1/BraTS19_TCIA02_606_1_t1.nii.gz',\n",
              " 'MICCAI_BraTS_2019_Data_Training/HGG/BraTS19_CBICA_AXW_1/BraTS19_CBICA_AXW_1_t1.nii.gz',\n",
              " 'MICCAI_BraTS_2019_Data_Training/HGG/BraTS19_2013_2_1/BraTS19_2013_2_1_t1.nii.gz',\n",
              " 'MICCAI_BraTS_2019_Data_Training/HGG/BraTS19_CBICA_BAN_1/BraTS19_CBICA_BAN_1_t1.nii.gz',\n",
              " 'MICCAI_BraTS_2019_Data_Training/HGG/BraTS19_CBICA_AZD_1/BraTS19_CBICA_AZD_1_t1.nii.gz',\n",
              " 'MICCAI_BraTS_2019_Data_Training/HGG/BraTS19_CBICA_BIC_1/BraTS19_CBICA_BIC_1_t1.nii.gz',\n",
              " 'MICCAI_BraTS_2019_Data_Training/HGG/BraTS19_2013_17_1/BraTS19_2013_17_1_t1.nii.gz',\n",
              " 'MICCAI_BraTS_2019_Data_Training/HGG/BraTS19_2013_14_1/BraTS19_2013_14_1_t1.nii.gz',\n",
              " 'MICCAI_BraTS_2019_Data_Training/HGG/BraTS19_CBICA_BHB_1/BraTS19_CBICA_BHB_1_t1.nii.gz',\n",
              " 'MICCAI_BraTS_2019_Data_Training/HGG/BraTS19_CBICA_BHQ_1/BraTS19_CBICA_BHQ_1_t1.nii.gz',\n",
              " 'MICCAI_BraTS_2019_Data_Training/HGG/BraTS19_TCIA01_201_1/BraTS19_TCIA01_201_1_t1.nii.gz',\n",
              " 'MICCAI_BraTS_2019_Data_Training/HGG/BraTS19_TCIA05_478_1/BraTS19_TCIA05_478_1_t1.nii.gz',\n",
              " 'MICCAI_BraTS_2019_Data_Training/HGG/BraTS19_CBICA_AOC_1/BraTS19_CBICA_AOC_1_t1.nii.gz',\n",
              " 'MICCAI_BraTS_2019_Data_Training/HGG/BraTS19_CBICA_AYI_1/BraTS19_CBICA_AYI_1_t1.nii.gz',\n",
              " 'MICCAI_BraTS_2019_Data_Training/HGG/BraTS19_2013_25_1/BraTS19_2013_25_1_t1.nii.gz',\n",
              " 'MICCAI_BraTS_2019_Data_Training/HGG/BraTS19_CBICA_AQV_1/BraTS19_CBICA_AQV_1_t1.nii.gz',\n",
              " 'MICCAI_BraTS_2019_Data_Training/HGG/BraTS19_CBICA_AQP_1/BraTS19_CBICA_AQP_1_t1.nii.gz',\n",
              " 'MICCAI_BraTS_2019_Data_Training/HGG/BraTS19_2013_13_1/BraTS19_2013_13_1_t1.nii.gz',\n",
              " 'MICCAI_BraTS_2019_Data_Training/HGG/BraTS19_CBICA_AQU_1/BraTS19_CBICA_AQU_1_t1.nii.gz',\n",
              " 'MICCAI_BraTS_2019_Data_Training/HGG/BraTS19_TCIA05_277_1/BraTS19_TCIA05_277_1_t1.nii.gz',\n",
              " 'MICCAI_BraTS_2019_Data_Training/HGG/BraTS19_TCIA02_607_1/BraTS19_TCIA02_607_1_t1.nii.gz',\n",
              " 'MICCAI_BraTS_2019_Data_Training/HGG/BraTS19_TCIA02_321_1/BraTS19_TCIA02_321_1_t1.nii.gz',\n",
              " 'MICCAI_BraTS_2019_Data_Training/HGG/BraTS19_TCIA03_338_1/BraTS19_TCIA03_338_1_t1.nii.gz',\n",
              " 'MICCAI_BraTS_2019_Data_Training/HGG/BraTS19_TCIA02_608_1/BraTS19_TCIA02_608_1_t1.nii.gz',\n",
              " 'MICCAI_BraTS_2019_Data_Training/HGG/BraTS19_TCIA02_491_1/BraTS19_TCIA02_491_1_t1.nii.gz',\n",
              " 'MICCAI_BraTS_2019_Data_Training/HGG/BraTS19_TCIA03_121_1/BraTS19_TCIA03_121_1_t1.nii.gz',\n",
              " 'MICCAI_BraTS_2019_Data_Training/HGG/BraTS19_CBICA_AVV_1/BraTS19_CBICA_AVV_1_t1.nii.gz',\n",
              " 'MICCAI_BraTS_2019_Data_Training/HGG/BraTS19_TCIA01_401_1/BraTS19_TCIA01_401_1_t1.nii.gz',\n",
              " 'MICCAI_BraTS_2019_Data_Training/HGG/BraTS19_CBICA_APR_1/BraTS19_CBICA_APR_1_t1.nii.gz',\n",
              " 'MICCAI_BraTS_2019_Data_Training/HGG/BraTS19_CBICA_AVF_1/BraTS19_CBICA_AVF_1_t1.nii.gz',\n",
              " 'MICCAI_BraTS_2019_Data_Training/HGG/BraTS19_TCIA01_412_1/BraTS19_TCIA01_412_1_t1.nii.gz',\n",
              " 'MICCAI_BraTS_2019_Data_Training/HGG/BraTS19_TCIA06_409_1/BraTS19_TCIA06_409_1_t1.nii.gz',\n",
              " 'MICCAI_BraTS_2019_Data_Training/HGG/BraTS19_CBICA_BJY_1/BraTS19_CBICA_BJY_1_t1.nii.gz',\n",
              " 'MICCAI_BraTS_2019_Data_Training/HGG/BraTS19_TCIA02_370_1/BraTS19_TCIA02_370_1_t1.nii.gz',\n",
              " 'MICCAI_BraTS_2019_Data_Training/HGG/BraTS19_TCIA02_322_1/BraTS19_TCIA02_322_1_t1.nii.gz',\n",
              " 'MICCAI_BraTS_2019_Data_Training/HGG/BraTS19_CBICA_AOH_1/BraTS19_CBICA_AOH_1_t1.nii.gz',\n",
              " 'MICCAI_BraTS_2019_Data_Training/HGG/BraTS19_CBICA_AOD_1/BraTS19_CBICA_AOD_1_t1.nii.gz',\n",
              " 'MICCAI_BraTS_2019_Data_Training/HGG/BraTS19_CBICA_BGO_1/BraTS19_CBICA_BGO_1_t1.nii.gz',\n",
              " 'MICCAI_BraTS_2019_Data_Training/HGG/BraTS19_TCIA02_118_1/BraTS19_TCIA02_118_1_t1.nii.gz',\n",
              " 'MICCAI_BraTS_2019_Data_Training/HGG/BraTS19_CBICA_ASA_1/BraTS19_CBICA_ASA_1_t1.nii.gz',\n",
              " 'MICCAI_BraTS_2019_Data_Training/HGG/BraTS19_TCIA02_290_1/BraTS19_TCIA02_290_1_t1.nii.gz',\n",
              " 'MICCAI_BraTS_2019_Data_Training/HGG/BraTS19_TCIA03_498_1/BraTS19_TCIA03_498_1_t1.nii.gz',\n",
              " 'MICCAI_BraTS_2019_Data_Training/HGG/BraTS19_CBICA_BAX_1/BraTS19_CBICA_BAX_1_t1.nii.gz',\n",
              " 'MICCAI_BraTS_2019_Data_Training/HGG/BraTS19_CBICA_AWH_1/BraTS19_CBICA_AWH_1_t1.nii.gz',\n",
              " 'MICCAI_BraTS_2019_Data_Training/HGG/BraTS19_CBICA_AAL_1/BraTS19_CBICA_AAL_1_t1.nii.gz',\n",
              " 'MICCAI_BraTS_2019_Data_Training/HGG/BraTS19_CBICA_APY_1/BraTS19_CBICA_APY_1_t1.nii.gz',\n",
              " 'MICCAI_BraTS_2019_Data_Training/HGG/BraTS19_CBICA_BFB_1/BraTS19_CBICA_BFB_1_t1.nii.gz',\n",
              " 'MICCAI_BraTS_2019_Data_Training/HGG/BraTS19_TCIA02_377_1/BraTS19_TCIA02_377_1_t1.nii.gz',\n",
              " 'MICCAI_BraTS_2019_Data_Training/HGG/BraTS19_CBICA_BGW_1/BraTS19_CBICA_BGW_1_t1.nii.gz',\n",
              " 'MICCAI_BraTS_2019_Data_Training/HGG/BraTS19_TCIA02_135_1/BraTS19_TCIA02_135_1_t1.nii.gz',\n",
              " 'MICCAI_BraTS_2019_Data_Training/HGG/BraTS19_CBICA_AOP_1/BraTS19_CBICA_AOP_1_t1.nii.gz',\n",
              " 'MICCAI_BraTS_2019_Data_Training/HGG/BraTS19_2013_26_1/BraTS19_2013_26_1_t1.nii.gz',\n",
              " 'MICCAI_BraTS_2019_Data_Training/HGG/BraTS19_TCIA08_162_1/BraTS19_TCIA08_162_1_t1.nii.gz',\n",
              " 'MICCAI_BraTS_2019_Data_Training/HGG/BraTS19_2013_20_1/BraTS19_2013_20_1_t1.nii.gz',\n",
              " 'MICCAI_BraTS_2019_Data_Training/HGG/BraTS19_TMC_11964_1/BraTS19_TMC_11964_1_t1.nii.gz',\n",
              " 'MICCAI_BraTS_2019_Data_Training/HGG/BraTS19_CBICA_ATF_1/BraTS19_CBICA_ATF_1_t1.nii.gz',\n",
              " 'MICCAI_BraTS_2019_Data_Training/HGG/BraTS19_CBICA_BNR_1/BraTS19_CBICA_BNR_1_t1.nii.gz',\n",
              " 'MICCAI_BraTS_2019_Data_Training/HGG/BraTS19_CBICA_AVB_1/BraTS19_CBICA_AVB_1_t1.nii.gz',\n",
              " 'MICCAI_BraTS_2019_Data_Training/HGG/BraTS19_CBICA_ANZ_1/BraTS19_CBICA_ANZ_1_t1.nii.gz',\n",
              " 'MICCAI_BraTS_2019_Data_Training/HGG/BraTS19_TCIA08_105_1/BraTS19_TCIA08_105_1_t1.nii.gz',\n",
              " 'MICCAI_BraTS_2019_Data_Training/HGG/BraTS19_CBICA_AAG_1/BraTS19_CBICA_AAG_1_t1.nii.gz',\n",
              " 'MICCAI_BraTS_2019_Data_Training/HGG/BraTS19_TMC_27374_1/BraTS19_TMC_27374_1_t1.nii.gz',\n",
              " 'MICCAI_BraTS_2019_Data_Training/HGG/BraTS19_CBICA_ASV_1/BraTS19_CBICA_ASV_1_t1.nii.gz',\n",
              " 'MICCAI_BraTS_2019_Data_Training/HGG/BraTS19_TCIA03_474_1/BraTS19_TCIA03_474_1_t1.nii.gz',\n",
              " 'MICCAI_BraTS_2019_Data_Training/HGG/BraTS19_CBICA_ASN_1/BraTS19_CBICA_ASN_1_t1.nii.gz',\n",
              " 'MICCAI_BraTS_2019_Data_Training/HGG/BraTS19_2013_11_1/BraTS19_2013_11_1_t1.nii.gz',\n",
              " 'MICCAI_BraTS_2019_Data_Training/HGG/BraTS19_TCIA04_479_1/BraTS19_TCIA04_479_1_t1.nii.gz',\n",
              " 'MICCAI_BraTS_2019_Data_Training/HGG/BraTS19_TCIA01_411_1/BraTS19_TCIA01_411_1_t1.nii.gz',\n",
              " 'MICCAI_BraTS_2019_Data_Training/HGG/BraTS19_CBICA_BHK_1/BraTS19_CBICA_BHK_1_t1.nii.gz',\n",
              " 'MICCAI_BraTS_2019_Data_Training/HGG/BraTS19_TCIA02_314_1/BraTS19_TCIA02_314_1_t1.nii.gz',\n",
              " 'MICCAI_BraTS_2019_Data_Training/HGG/BraTS19_TCIA02_394_1/BraTS19_TCIA02_394_1_t1.nii.gz',\n",
              " 'MICCAI_BraTS_2019_Data_Training/HGG/BraTS19_CBICA_AQA_1/BraTS19_CBICA_AQA_1_t1.nii.gz',\n",
              " 'MICCAI_BraTS_2019_Data_Training/HGG/BraTS19_CBICA_AQN_1/BraTS19_CBICA_AQN_1_t1.nii.gz',\n",
              " 'MICCAI_BraTS_2019_Data_Training/HGG/BraTS19_TCIA01_429_1/BraTS19_TCIA01_429_1_t1.nii.gz',\n",
              " 'MICCAI_BraTS_2019_Data_Training/HGG/BraTS19_CBICA_AXJ_1/BraTS19_CBICA_AXJ_1_t1.nii.gz',\n",
              " 'MICCAI_BraTS_2019_Data_Training/HGG/BraTS19_TCIA06_372_1/BraTS19_TCIA06_372_1_t1.nii.gz',\n",
              " 'MICCAI_BraTS_2019_Data_Training/HGG/BraTS19_TCIA02_300_1/BraTS19_TCIA02_300_1_t1.nii.gz',\n",
              " 'MICCAI_BraTS_2019_Data_Training/HGG/BraTS19_CBICA_ANG_1/BraTS19_CBICA_ANG_1_t1.nii.gz',\n",
              " 'MICCAI_BraTS_2019_Data_Training/HGG/BraTS19_CBICA_APK_1/BraTS19_CBICA_APK_1_t1.nii.gz',\n",
              " 'MICCAI_BraTS_2019_Data_Training/HGG/BraTS19_CBICA_AXM_1/BraTS19_CBICA_AXM_1_t1.nii.gz',\n",
              " 'MICCAI_BraTS_2019_Data_Training/HGG/BraTS19_CBICA_AOS_1/BraTS19_CBICA_AOS_1_t1.nii.gz',\n",
              " 'MICCAI_BraTS_2019_Data_Training/HGG/BraTS19_TCIA02_151_1/BraTS19_TCIA02_151_1_t1.nii.gz',\n",
              " 'MICCAI_BraTS_2019_Data_Training/HGG/BraTS19_CBICA_AVG_1/BraTS19_CBICA_AVG_1_t1.nii.gz',\n",
              " 'MICCAI_BraTS_2019_Data_Training/HGG/BraTS19_TCIA02_179_1/BraTS19_TCIA02_179_1_t1.nii.gz',\n",
              " 'MICCAI_BraTS_2019_Data_Training/HGG/BraTS19_TCIA08_242_1/BraTS19_TCIA08_242_1_t1.nii.gz',\n",
              " 'MICCAI_BraTS_2019_Data_Training/HGG/BraTS19_2013_27_1/BraTS19_2013_27_1_t1.nii.gz',\n",
              " 'MICCAI_BraTS_2019_Data_Training/HGG/BraTS19_CBICA_APZ_1/BraTS19_CBICA_APZ_1_t1.nii.gz',\n",
              " 'MICCAI_BraTS_2019_Data_Training/HGG/BraTS19_TCIA01_203_1/BraTS19_TCIA01_203_1_t1.nii.gz',\n",
              " 'MICCAI_BraTS_2019_Data_Training/HGG/BraTS19_2013_19_1/BraTS19_2013_19_1_t1.nii.gz',\n",
              " 'MICCAI_BraTS_2019_Data_Training/HGG/BraTS19_CBICA_BKV_1/BraTS19_CBICA_BKV_1_t1.nii.gz',\n",
              " 'MICCAI_BraTS_2019_Data_Training/HGG/BraTS19_TMC_15477_1/BraTS19_TMC_15477_1_t1.nii.gz',\n",
              " 'MICCAI_BraTS_2019_Data_Training/HGG/BraTS19_CBICA_AUA_1/BraTS19_CBICA_AUA_1_t1.nii.gz',\n",
              " 'MICCAI_BraTS_2019_Data_Training/HGG/BraTS19_TCIA02_605_1/BraTS19_TCIA02_605_1_t1.nii.gz',\n",
              " 'MICCAI_BraTS_2019_Data_Training/HGG/BraTS19_TCIA02_171_1/BraTS19_TCIA02_171_1_t1.nii.gz',\n",
              " 'MICCAI_BraTS_2019_Data_Training/HGG/BraTS19_2013_3_1/BraTS19_2013_3_1_t1.nii.gz',\n",
              " 'MICCAI_BraTS_2019_Data_Training/HGG/BraTS19_CBICA_BGN_1/BraTS19_CBICA_BGN_1_t1.nii.gz',\n",
              " 'MICCAI_BraTS_2019_Data_Training/HGG/BraTS19_TCIA04_328_1/BraTS19_TCIA04_328_1_t1.nii.gz',\n",
              " 'MICCAI_BraTS_2019_Data_Training/HGG/BraTS19_CBICA_AYC_1/BraTS19_CBICA_AYC_1_t1.nii.gz',\n",
              " 'MICCAI_BraTS_2019_Data_Training/HGG/BraTS19_TCIA04_149_1/BraTS19_TCIA04_149_1_t1.nii.gz',\n",
              " 'MICCAI_BraTS_2019_Data_Training/HGG/BraTS19_CBICA_AQY_1/BraTS19_CBICA_AQY_1_t1.nii.gz',\n",
              " 'MICCAI_BraTS_2019_Data_Training/HGG/BraTS19_CBICA_ASO_1/BraTS19_CBICA_ASO_1_t1.nii.gz',\n",
              " 'MICCAI_BraTS_2019_Data_Training/HGG/BraTS19_CBICA_AXQ_1/BraTS19_CBICA_AXQ_1_t1.nii.gz',\n",
              " 'MICCAI_BraTS_2019_Data_Training/HGG/BraTS19_CBICA_AXN_1/BraTS19_CBICA_AXN_1_t1.nii.gz',\n",
              " 'MICCAI_BraTS_2019_Data_Training/HGG/BraTS19_CBICA_AOZ_1/BraTS19_CBICA_AOZ_1_t1.nii.gz',\n",
              " 'MICCAI_BraTS_2019_Data_Training/HGG/BraTS19_TCIA02_168_1/BraTS19_TCIA02_168_1_t1.nii.gz',\n",
              " 'MICCAI_BraTS_2019_Data_Training/HGG/BraTS19_TCIA01_425_1/BraTS19_TCIA01_425_1_t1.nii.gz',\n",
              " 'MICCAI_BraTS_2019_Data_Training/HGG/BraTS19_TCIA02_208_1/BraTS19_TCIA02_208_1_t1.nii.gz',\n",
              " 'MICCAI_BraTS_2019_Data_Training/HGG/BraTS19_CBICA_ARZ_1/BraTS19_CBICA_ARZ_1_t1.nii.gz',\n",
              " 'MICCAI_BraTS_2019_Data_Training/HGG/BraTS19_CBICA_AQO_1/BraTS19_CBICA_AQO_1_t1.nii.gz',\n",
              " 'MICCAI_BraTS_2019_Data_Training/HGG/BraTS19_TCIA01_186_1/BraTS19_TCIA01_186_1_t1.nii.gz',\n",
              " 'MICCAI_BraTS_2019_Data_Training/HGG/BraTS19_TCIA03_257_1/BraTS19_TCIA03_257_1_t1.nii.gz',\n",
              " 'MICCAI_BraTS_2019_Data_Training/HGG/BraTS19_CBICA_ASK_1/BraTS19_CBICA_ASK_1_t1.nii.gz',\n",
              " 'MICCAI_BraTS_2019_Data_Training/HGG/BraTS19_2013_4_1/BraTS19_2013_4_1_t1.nii.gz',\n",
              " 'MICCAI_BraTS_2019_Data_Training/HGG/BraTS19_TCIA02_368_1/BraTS19_TCIA02_368_1_t1.nii.gz',\n",
              " 'MICCAI_BraTS_2019_Data_Training/HGG/BraTS19_CBICA_AQJ_1/BraTS19_CBICA_AQJ_1_t1.nii.gz',\n",
              " 'MICCAI_BraTS_2019_Data_Training/HGG/BraTS19_CBICA_ATP_1/BraTS19_CBICA_ATP_1_t1.nii.gz',\n",
              " 'MICCAI_BraTS_2019_Data_Training/HGG/BraTS19_CBICA_ALN_1/BraTS19_CBICA_ALN_1_t1.nii.gz',\n",
              " 'MICCAI_BraTS_2019_Data_Training/HGG/BraTS19_TCIA02_430_1/BraTS19_TCIA02_430_1_t1.nii.gz',\n",
              " 'MICCAI_BraTS_2019_Data_Training/HGG/BraTS19_CBICA_AWG_1/BraTS19_CBICA_AWG_1_t1.nii.gz',\n",
              " 'MICCAI_BraTS_2019_Data_Training/HGG/BraTS19_TMC_06643_1/BraTS19_TMC_06643_1_t1.nii.gz',\n",
              " 'MICCAI_BraTS_2019_Data_Training/HGG/BraTS19_2013_12_1/BraTS19_2013_12_1_t1.nii.gz',\n",
              " 'MICCAI_BraTS_2019_Data_Training/HGG/BraTS19_CBICA_BGX_1/BraTS19_CBICA_BGX_1_t1.nii.gz',\n",
              " 'MICCAI_BraTS_2019_Data_Training/HGG/BraTS19_TCIA01_235_1/BraTS19_TCIA01_235_1_t1.nii.gz',\n",
              " 'MICCAI_BraTS_2019_Data_Training/HGG/BraTS19_CBICA_BHZ_1/BraTS19_CBICA_BHZ_1_t1.nii.gz',\n",
              " 'MICCAI_BraTS_2019_Data_Training/HGG/BraTS19_TCIA06_247_1/BraTS19_TCIA06_247_1_t1.nii.gz',\n",
              " 'MICCAI_BraTS_2019_Data_Training/HGG/BraTS19_CBICA_ABO_1/BraTS19_CBICA_ABO_1_t1.nii.gz',\n",
              " 'MICCAI_BraTS_2019_Data_Training/HGG/BraTS19_TCIA01_180_1/BraTS19_TCIA01_180_1_t1.nii.gz',\n",
              " 'MICCAI_BraTS_2019_Data_Training/HGG/BraTS19_TCIA08_205_1/BraTS19_TCIA08_205_1_t1.nii.gz',\n",
              " 'MICCAI_BraTS_2019_Data_Training/HGG/BraTS19_CBICA_AVT_1/BraTS19_CBICA_AVT_1_t1.nii.gz',\n",
              " 'MICCAI_BraTS_2019_Data_Training/HGG/BraTS19_CBICA_AXO_1/BraTS19_CBICA_AXO_1_t1.nii.gz',\n",
              " 'MICCAI_BraTS_2019_Data_Training/HGG/BraTS19_TCIA08_406_1/BraTS19_TCIA08_406_1_t1.nii.gz',\n",
              " 'MICCAI_BraTS_2019_Data_Training/HGG/BraTS19_CBICA_AYW_1/BraTS19_CBICA_AYW_1_t1.nii.gz',\n",
              " 'MICCAI_BraTS_2019_Data_Training/HGG/BraTS19_CBICA_ATV_1/BraTS19_CBICA_ATV_1_t1.nii.gz',\n",
              " 'MICCAI_BraTS_2019_Data_Training/HGG/BraTS19_CBICA_AQD_1/BraTS19_CBICA_AQD_1_t1.nii.gz',\n",
              " 'MICCAI_BraTS_2019_Data_Training/HGG/BraTS19_TCIA06_165_1/BraTS19_TCIA06_165_1_t1.nii.gz',\n",
              " 'MICCAI_BraTS_2019_Data_Training/HGG/BraTS19_TCIA08_280_1/BraTS19_TCIA08_280_1_t1.nii.gz',\n",
              " 'MICCAI_BraTS_2019_Data_Training/HGG/BraTS19_CBICA_AME_1/BraTS19_CBICA_AME_1_t1.nii.gz',\n",
              " 'MICCAI_BraTS_2019_Data_Training/HGG/BraTS19_TCIA03_133_1/BraTS19_TCIA03_133_1_t1.nii.gz',\n",
              " 'MICCAI_BraTS_2019_Data_Training/HGG/BraTS19_CBICA_AZH_1/BraTS19_CBICA_AZH_1_t1.nii.gz',\n",
              " 'MICCAI_BraTS_2019_Data_Training/HGG/BraTS19_TCIA02_473_1/BraTS19_TCIA02_473_1_t1.nii.gz',\n",
              " 'MICCAI_BraTS_2019_Data_Training/HGG/BraTS19_CBICA_ATX_1/BraTS19_CBICA_ATX_1_t1.nii.gz',\n",
              " 'MICCAI_BraTS_2019_Data_Training/HGG/BraTS19_CBICA_ANI_1/BraTS19_CBICA_ANI_1_t1.nii.gz',\n",
              " 'MICCAI_BraTS_2019_Data_Training/HGG/BraTS19_CBICA_BHV_1/BraTS19_CBICA_BHV_1_t1.nii.gz',\n",
              " 'MICCAI_BraTS_2019_Data_Training/HGG/BraTS19_TCIA02_331_1/BraTS19_TCIA02_331_1_t1.nii.gz',\n",
              " 'MICCAI_BraTS_2019_Data_Training/HGG/BraTS19_TCIA03_199_1/BraTS19_TCIA03_199_1_t1.nii.gz',\n",
              " 'MICCAI_BraTS_2019_Data_Training/HGG/BraTS19_TCIA08_436_1/BraTS19_TCIA08_436_1_t1.nii.gz',\n",
              " 'MICCAI_BraTS_2019_Data_Training/HGG/BraTS19_CBICA_AUN_1/BraTS19_CBICA_AUN_1_t1.nii.gz',\n",
              " 'MICCAI_BraTS_2019_Data_Training/HGG/BraTS19_TCIA08_113_1/BraTS19_TCIA08_113_1_t1.nii.gz',\n",
              " 'MICCAI_BraTS_2019_Data_Training/HGG/BraTS19_CBICA_AUW_1/BraTS19_CBICA_AUW_1_t1.nii.gz',\n",
              " 'MICCAI_BraTS_2019_Data_Training/HGG/BraTS19_TCIA03_138_1/BraTS19_TCIA03_138_1_t1.nii.gz',\n",
              " 'MICCAI_BraTS_2019_Data_Training/HGG/BraTS19_CBICA_ASG_1/BraTS19_CBICA_ASG_1_t1.nii.gz',\n",
              " 'MICCAI_BraTS_2019_Data_Training/HGG/BraTS19_TCIA08_319_1/BraTS19_TCIA08_319_1_t1.nii.gz',\n",
              " 'MICCAI_BraTS_2019_Data_Training/HGG/BraTS19_TCIA04_343_1/BraTS19_TCIA04_343_1_t1.nii.gz',\n",
              " 'MICCAI_BraTS_2019_Data_Training/HGG/BraTS19_TCIA08_469_1/BraTS19_TCIA08_469_1_t1.nii.gz',\n",
              " 'MICCAI_BraTS_2019_Data_Training/HGG/BraTS19_TCIA01_147_1/BraTS19_TCIA01_147_1_t1.nii.gz',\n",
              " 'MICCAI_BraTS_2019_Data_Training/HGG/BraTS19_TCIA02_283_1/BraTS19_TCIA02_283_1_t1.nii.gz',\n",
              " 'MICCAI_BraTS_2019_Data_Training/HGG/BraTS19_CBICA_ANV_1/BraTS19_CBICA_ANV_1_t1.nii.gz',\n",
              " 'MICCAI_BraTS_2019_Data_Training/HGG/BraTS19_TCIA02_374_1/BraTS19_TCIA02_374_1_t1.nii.gz',\n",
              " 'MICCAI_BraTS_2019_Data_Training/HGG/BraTS19_TCIA02_309_1/BraTS19_TCIA02_309_1_t1.nii.gz',\n",
              " 'MICCAI_BraTS_2019_Data_Training/HGG/BraTS19_CBICA_ATB_1/BraTS19_CBICA_ATB_1_t1.nii.gz',\n",
              " 'MICCAI_BraTS_2019_Data_Training/HGG/BraTS19_CBICA_AUX_1/BraTS19_CBICA_AUX_1_t1.nii.gz',\n",
              " 'MICCAI_BraTS_2019_Data_Training/HGG/BraTS19_TCIA01_231_1/BraTS19_TCIA01_231_1_t1.nii.gz',\n",
              " 'MICCAI_BraTS_2019_Data_Training/HGG/BraTS19_CBICA_ABB_1/BraTS19_CBICA_ABB_1_t1.nii.gz',\n",
              " 'MICCAI_BraTS_2019_Data_Training/HGG/BraTS19_TCIA06_184_1/BraTS19_TCIA06_184_1_t1.nii.gz',\n",
              " 'MICCAI_BraTS_2019_Data_Training/HGG/BraTS19_TCIA04_192_1/BraTS19_TCIA04_192_1_t1.nii.gz',\n",
              " 'MICCAI_BraTS_2019_Data_Training/HGG/BraTS19_2013_23_1/BraTS19_2013_23_1_t1.nii.gz',\n",
              " 'MICCAI_BraTS_2019_Data_Training/HGG/BraTS19_CBICA_ABN_1/BraTS19_CBICA_ABN_1_t1.nii.gz',\n",
              " 'MICCAI_BraTS_2019_Data_Training/HGG/BraTS19_TCIA08_218_1/BraTS19_TCIA08_218_1_t1.nii.gz',\n",
              " 'MICCAI_BraTS_2019_Data_Training/HGG/BraTS19_TCIA03_375_1/BraTS19_TCIA03_375_1_t1.nii.gz',\n",
              " 'MICCAI_BraTS_2019_Data_Training/HGG/BraTS19_CBICA_AAP_1/BraTS19_CBICA_AAP_1_t1.nii.gz',\n",
              " 'MICCAI_BraTS_2019_Data_Training/HGG/BraTS19_TCIA08_234_1/BraTS19_TCIA08_234_1_t1.nii.gz',\n",
              " 'MICCAI_BraTS_2019_Data_Training/HGG/BraTS19_CBICA_ALX_1/BraTS19_CBICA_ALX_1_t1.nii.gz',\n",
              " 'MICCAI_BraTS_2019_Data_Training/HGG/BraTS19_CBICA_BEM_1/BraTS19_CBICA_BEM_1_t1.nii.gz',\n",
              " 'MICCAI_BraTS_2019_Data_Training/HGG/BraTS19_CBICA_ANP_1/BraTS19_CBICA_ANP_1_t1.nii.gz',\n",
              " 'MICCAI_BraTS_2019_Data_Training/HGG/BraTS19_TCIA02_471_1/BraTS19_TCIA02_471_1_t1.nii.gz',\n",
              " 'MICCAI_BraTS_2019_Data_Training/HGG/BraTS19_CBICA_AQQ_1/BraTS19_CBICA_AQQ_1_t1.nii.gz',\n",
              " 'MICCAI_BraTS_2019_Data_Training/HGG/BraTS19_CBICA_BBG_1/BraTS19_CBICA_BBG_1_t1.nii.gz',\n",
              " 'MICCAI_BraTS_2019_Data_Training/HGG/BraTS19_CBICA_AUQ_1/BraTS19_CBICA_AUQ_1_t1.nii.gz',\n",
              " 'MICCAI_BraTS_2019_Data_Training/HGG/BraTS19_2013_7_1/BraTS19_2013_7_1_t1.nii.gz',\n",
              " 'MICCAI_BraTS_2019_Data_Training/HGG/BraTS19_TCIA01_460_1/BraTS19_TCIA01_460_1_t1.nii.gz',\n",
              " 'MICCAI_BraTS_2019_Data_Training/HGG/BraTS19_CBICA_BFP_1/BraTS19_CBICA_BFP_1_t1.nii.gz',\n",
              " 'MICCAI_BraTS_2019_Data_Training/HGG/BraTS19_CBICA_BGT_1/BraTS19_CBICA_BGT_1_t1.nii.gz',\n",
              " 'MICCAI_BraTS_2019_Data_Training/HGG/BraTS19_2013_22_1/BraTS19_2013_22_1_t1.nii.gz',\n",
              " 'MICCAI_BraTS_2019_Data_Training/HGG/BraTS19_TCIA03_419_1/BraTS19_TCIA03_419_1_t1.nii.gz',\n",
              " 'MICCAI_BraTS_2019_Data_Training/HGG/BraTS19_CBICA_ASE_1/BraTS19_CBICA_ASE_1_t1.nii.gz',\n",
              " 'MICCAI_BraTS_2019_Data_Training/HGG/BraTS19_TCIA01_150_1/BraTS19_TCIA01_150_1_t1.nii.gz',\n",
              " 'MICCAI_BraTS_2019_Data_Training/HGG/BraTS19_CBICA_ASY_1/BraTS19_CBICA_ASY_1_t1.nii.gz',\n",
              " 'MICCAI_BraTS_2019_Data_Training/HGG/BraTS19_CBICA_AUR_1/BraTS19_CBICA_AUR_1_t1.nii.gz',\n",
              " 'MICCAI_BraTS_2019_Data_Training/HGG/BraTS19_TCIA02_198_1/BraTS19_TCIA02_198_1_t1.nii.gz',\n",
              " 'MICCAI_BraTS_2019_Data_Training/HGG/BraTS19_CBICA_ALU_1/BraTS19_CBICA_ALU_1_t1.nii.gz',\n",
              " 'MICCAI_BraTS_2019_Data_Training/HGG/BraTS19_CBICA_ABE_1/BraTS19_CBICA_ABE_1_t1.nii.gz',\n",
              " 'MICCAI_BraTS_2019_Data_Training/HGG/BraTS19_CBICA_BCL_1/BraTS19_CBICA_BCL_1_t1.nii.gz',\n",
              " 'MICCAI_BraTS_2019_Data_Training/HGG/BraTS19_CBICA_BAP_1/BraTS19_CBICA_BAP_1_t1.nii.gz',\n",
              " 'MICCAI_BraTS_2019_Data_Training/HGG/BraTS19_CBICA_AYG_1/BraTS19_CBICA_AYG_1_t1.nii.gz',\n",
              " 'MICCAI_BraTS_2019_Data_Training/HGG/BraTS19_CBICA_AQR_1/BraTS19_CBICA_AQR_1_t1.nii.gz',\n",
              " 'MICCAI_BraTS_2019_Data_Training/HGG/BraTS19_CBICA_AWV_1/BraTS19_CBICA_AWV_1_t1.nii.gz',\n",
              " 'MICCAI_BraTS_2019_Data_Training/HGG/BraTS19_CBICA_AVJ_1/BraTS19_CBICA_AVJ_1_t1.nii.gz',\n",
              " 'MICCAI_BraTS_2019_Data_Training/HGG/BraTS19_CBICA_ABY_1/BraTS19_CBICA_ABY_1_t1.nii.gz',\n",
              " 'MICCAI_BraTS_2019_Data_Training/HGG/BraTS19_TCIA06_332_1/BraTS19_TCIA06_332_1_t1.nii.gz',\n",
              " 'MICCAI_BraTS_2019_Data_Training/HGG/BraTS19_CBICA_AWX_1/BraTS19_CBICA_AWX_1_t1.nii.gz',\n",
              " 'MICCAI_BraTS_2019_Data_Training/HGG/BraTS19_CBICA_ARW_1/BraTS19_CBICA_ARW_1_t1.nii.gz',\n",
              " 'MICCAI_BraTS_2019_Data_Training/HGG/BraTS19_CBICA_ATD_1/BraTS19_CBICA_ATD_1_t1.nii.gz',\n",
              " 'MICCAI_BraTS_2019_Data_Training/HGG/BraTS19_CBICA_ASF_1/BraTS19_CBICA_ASF_1_t1.nii.gz',\n",
              " 'MICCAI_BraTS_2019_Data_Training/HGG/BraTS19_TCIA04_361_1/BraTS19_TCIA04_361_1_t1.nii.gz',\n",
              " 'MICCAI_BraTS_2019_Data_Training/HGG/BraTS19_TMC_12866_1/BraTS19_TMC_12866_1_t1.nii.gz',\n",
              " 'MICCAI_BraTS_2019_Data_Training/HGG/BraTS19_TCIA05_444_1/BraTS19_TCIA05_444_1_t1.nii.gz',\n",
              " 'MICCAI_BraTS_2019_Data_Training/HGG/BraTS19_CBICA_AAB_1/BraTS19_CBICA_AAB_1_t1.nii.gz',\n",
              " 'MICCAI_BraTS_2019_Data_Training/HGG/BraTS19_CBICA_AQG_1/BraTS19_CBICA_AQG_1_t1.nii.gz',\n",
              " 'MICCAI_BraTS_2019_Data_Training/HGG/BraTS19_TCIA01_221_1/BraTS19_TCIA01_221_1_t1.nii.gz',\n",
              " 'MICCAI_BraTS_2019_Data_Training/HGG/BraTS19_CBICA_ASU_1/BraTS19_CBICA_ASU_1_t1.nii.gz',\n",
              " 'MICCAI_BraTS_2019_Data_Training/HGG/BraTS19_TMC_30014_1/BraTS19_TMC_30014_1_t1.nii.gz',\n",
              " 'MICCAI_BraTS_2019_Data_Training/HGG/BraTS19_CBICA_AYA_1/BraTS19_CBICA_AYA_1_t1.nii.gz',\n",
              " 'MICCAI_BraTS_2019_Data_Training/HGG/BraTS19_TCIA02_455_1/BraTS19_TCIA02_455_1_t1.nii.gz',\n",
              " 'MICCAI_BraTS_2019_Data_Training/HGG/BraTS19_TCIA04_111_1/BraTS19_TCIA04_111_1_t1.nii.gz',\n",
              " 'MICCAI_BraTS_2019_Data_Training/HGG/BraTS19_TCIA02_274_1/BraTS19_TCIA02_274_1_t1.nii.gz',\n",
              " 'MICCAI_BraTS_2019_Data_Training/HGG/BraTS19_2013_10_1/BraTS19_2013_10_1_t1.nii.gz']"
            ]
          },
          "metadata": {
            "tags": []
          },
          "execution_count": 9
        }
      ]
    },
    {
      "cell_type": "code",
      "metadata": {
        "id": "4dssK9Nmwojp",
        "colab_type": "code",
        "colab": {}
      },
      "source": [
        "pat = re.compile('.*_(\\w*)\\.nii\\.gz')\n",
        "\n",
        "data_paths = [{\n",
        "    pat.findall(item)[0]:item\n",
        "    for item in items\n",
        "}\n",
        "for items in list(zip(t1, t2, t1ce, flair, seg))]"
      ],
      "execution_count": null,
      "outputs": []
    },
    {
      "cell_type": "code",
      "metadata": {
        "id": "MMqK4ZvOI8jV",
        "colab_type": "code",
        "colab": {}
      },
      "source": [
        ""
      ],
      "execution_count": null,
      "outputs": []
    },
    {
      "cell_type": "markdown",
      "metadata": {
        "id": "wHqqrbnH0n2E",
        "colab_type": "text"
      },
      "source": [
        "## Load the data in a Numpy array\n",
        "Creating an empty Numpy array beforehand and then filling up the data helps you gauge beforehand if the data fits in your memory.\n",
        "\n"
      ]
    },
    {
      "cell_type": "markdown",
      "metadata": {
        "id": "tBgbr-R-7Zat",
        "colab_type": "text"
      },
      "source": [
        "Loading the 255 images here, to save time."
      ]
    },
    {
      "cell_type": "code",
      "metadata": {
        "id": "nvbbddauz8ij",
        "colab_type": "code",
        "colab": {
          "base_uri": "https://localhost:8080/",
          "height": 34
        },
        "outputId": "7263a013-4532-4048-b829-aab154d61afb"
      },
      "source": [
        "input_shape = (255, 96, 96, 64)\n",
        "output_channels = 3\n",
        "data = np.empty((len(data_paths[:4]),) + input_shape, dtype=np.float32)\n",
        "labels = np.empty((len(data_paths[:4]), output_channels) + input_shape[1:], dtype=np.uint8)\n",
        "data.ndim"
      ],
      "execution_count": null,
      "outputs": [
        {
          "output_type": "execute_result",
          "data": {
            "text/plain": [
              "5"
            ]
          },
          "metadata": {
            "tags": []
          },
          "execution_count": 142
        }
      ]
    },
    {
      "cell_type": "code",
      "metadata": {
        "id": "G4u_yrMf30k4",
        "colab_type": "code",
        "colab": {
          "base_uri": "https://localhost:8080/",
          "height": 88
        },
        "outputId": "2e4ca3a2-41cb-409d-a9eb-b289137bf07c"
      },
      "source": [
        "import math\n",
        "\n",
        "# Parameters for the progress bar\n",
        "total = len(data_paths[:3])\n",
        "step = 25 / total\n",
        "\n",
        "for i, imgs in enumerate(data_paths[:3]):\n",
        "    try:\n",
        "        data[i] = np.array([preprocess(read_img(imgs[m]), input_shape[1:]) for m in ['t1', 't2', 't1ce', 'flair']], dtype=np.float32)\n",
        "        labels[i] = preprocess_label(read_img(imgs['seg']), input_shape[1:])[None, ...]\n",
        "        \n",
        "        # Print the progress bar\n",
        "        print('\\r' + f'Progress: '\n",
        "            f\"[{'=' * int((i+1) * step) + ' ' * (24 - int((i+1) * step))}]\"\n",
        "            f\"({math.ceil((i+1) * 100 / (total))} %)\",\n",
        "            end='')\n",
        "        print(imgs)\n",
        "    except Exception as e:\n",
        "        print(f'Something went wrong with {imgs[\"t1\"]}, skipping...\\n Exception:\\n{str(e)}')\n",
        "        continue"
      ],
      "execution_count": null,
      "outputs": [
        {
          "output_type": "stream",
          "text": [
            "Progress: [========                ](34 %){'t1': 'MICCAI_BraTS_2019_Data_Training/LGG/BraTS19_2013_16_1/BraTS19_2013_16_1_t1.nii.gz', 't2': 'MICCAI_BraTS_2019_Data_Training/LGG/BraTS19_2013_16_1/BraTS19_2013_16_1_t2.nii.gz', 't1ce': 'MICCAI_BraTS_2019_Data_Training/LGG/BraTS19_2013_16_1/BraTS19_2013_16_1_t1ce.nii.gz', 'flair': 'MICCAI_BraTS_2019_Data_Training/LGG/BraTS19_2013_16_1/BraTS19_2013_16_1_flair.nii.gz', 'seg': 'MICCAI_BraTS_2019_Data_Training/LGG/BraTS19_2013_16_1/BraTS19_2013_16_1_seg.nii.gz'}\n",
            "Progress: [================        ](67 %){'t1': 'MICCAI_BraTS_2019_Data_Training/LGG/BraTS19_TCIA10_351_1/BraTS19_TCIA10_351_1_t1.nii.gz', 't2': 'MICCAI_BraTS_2019_Data_Training/LGG/BraTS19_TCIA10_351_1/BraTS19_TCIA10_351_1_t2.nii.gz', 't1ce': 'MICCAI_BraTS_2019_Data_Training/LGG/BraTS19_TCIA10_351_1/BraTS19_TCIA10_351_1_t1ce.nii.gz', 'flair': 'MICCAI_BraTS_2019_Data_Training/LGG/BraTS19_TCIA10_351_1/BraTS19_TCIA10_351_1_flair.nii.gz', 'seg': 'MICCAI_BraTS_2019_Data_Training/LGG/BraTS19_TCIA10_351_1/BraTS19_TCIA10_351_1_seg.nii.gz'}\n",
            "Progress: [=========================](100 %){'t1': 'MICCAI_BraTS_2019_Data_Training/LGG/BraTS19_TCIA10_325_1/BraTS19_TCIA10_325_1_t1.nii.gz', 't2': 'MICCAI_BraTS_2019_Data_Training/LGG/BraTS19_TCIA10_325_1/BraTS19_TCIA10_325_1_t2.nii.gz', 't1ce': 'MICCAI_BraTS_2019_Data_Training/LGG/BraTS19_TCIA10_325_1/BraTS19_TCIA10_325_1_t1ce.nii.gz', 'flair': 'MICCAI_BraTS_2019_Data_Training/LGG/BraTS19_TCIA10_325_1/BraTS19_TCIA10_325_1_flair.nii.gz', 'seg': 'MICCAI_BraTS_2019_Data_Training/LGG/BraTS19_TCIA10_325_1/BraTS19_TCIA10_325_1_seg.nii.gz'}\n"
          ],
          "name": "stdout"
        }
      ]
    },
    {
      "cell_type": "markdown",
      "metadata": {
        "id": "Ojc7YgwC305t",
        "colab_type": "text"
      },
      "source": [
        "## Model"
      ]
    },
    {
      "cell_type": "markdown",
      "metadata": {
        "id": "uR_SDmgn4Lrd",
        "colab_type": "text"
      },
      "source": [
        "build the model"
      ]
    },
    {
      "cell_type": "code",
      "metadata": {
        "id": "vI53S6yZJN2V",
        "colab_type": "code",
        "colab": {}
      },
      "source": [
        "model = build_model(input_shape=input_shape, output_channels=3)"
      ],
      "execution_count": null,
      "outputs": []
    },
    {
      "cell_type": "markdown",
      "metadata": {
        "id": "s1u107O74NOP",
        "colab_type": "text"
      },
      "source": [
        "Train the model"
      ]
    },
    {
      "cell_type": "code",
      "metadata": {
        "id": "b0y7NfU4JBgi",
        "colab_type": "code",
        "colab": {
          "base_uri": "https://localhost:8080/",
          "height": 88
        },
        "outputId": "154595db-0840-4236-8e94-c79078dc3a2e"
      },
      "source": [
        "model.fit(data, [labels, data], batch_size=1, epochs=1)"
      ],
      "execution_count": null,
      "outputs": [
        {
          "output_type": "stream",
          "text": [
            "Epoch 1/1\n",
            "4/4 [==============================] - 25s 6s/step - loss: 0.3146 - Dec_GT_Output_loss: -0.0167 - Dec_VAE_Output_loss: 0.3313 - Dec_GT_Output_dice_coefficient: 0.0167 - Dec_VAE_Output_dice_coefficient: 0.5087\n"
          ],
          "name": "stdout"
        },
        {
          "output_type": "execute_result",
          "data": {
            "text/plain": [
              "<keras.callbacks.History at 0x7efd29363908>"
            ]
          },
          "metadata": {
            "tags": []
          },
          "execution_count": 66
        }
      ]
    },
    {
      "cell_type": "code",
      "metadata": {
        "id": "ZqJKEQX1EJPr",
        "colab_type": "code",
        "colab": {
          "base_uri": "https://localhost:8080/",
          "height": 377
        },
        "outputId": "b1b66917-0d55-40c0-dae2-9ccc32f68f3a"
      },
      "source": [
        "!pip install segmentation_models"
      ],
      "execution_count": null,
      "outputs": [
        {
          "output_type": "stream",
          "text": [
            "Requirement already satisfied: segmentation_models in /usr/local/lib/python3.6/dist-packages (1.0.1)\n",
            "Requirement already satisfied: efficientnet==1.0.0 in /usr/local/lib/python3.6/dist-packages (from segmentation_models) (1.0.0)\n",
            "Requirement already satisfied: image-classifiers==1.0.0 in /usr/local/lib/python3.6/dist-packages (from segmentation_models) (1.0.0)\n",
            "Requirement already satisfied: keras-applications<=1.0.8,>=1.0.7 in /usr/local/lib/python3.6/dist-packages (from segmentation_models) (1.0.8)\n",
            "Requirement already satisfied: scikit-image in /usr/local/lib/python3.6/dist-packages (from efficientnet==1.0.0->segmentation_models) (0.16.2)\n",
            "Requirement already satisfied: numpy>=1.9.1 in /usr/local/lib/python3.6/dist-packages (from keras-applications<=1.0.8,>=1.0.7->segmentation_models) (1.17.5)\n",
            "Requirement already satisfied: h5py in /usr/local/lib/python3.6/dist-packages (from keras-applications<=1.0.8,>=1.0.7->segmentation_models) (2.8.0)\n",
            "Requirement already satisfied: imageio>=2.3.0 in /usr/local/lib/python3.6/dist-packages (from scikit-image->efficientnet==1.0.0->segmentation_models) (2.4.1)\n",
            "Requirement already satisfied: matplotlib!=3.0.0,>=2.0.0 in /usr/local/lib/python3.6/dist-packages (from scikit-image->efficientnet==1.0.0->segmentation_models) (3.1.3)\n",
            "Requirement already satisfied: scipy>=0.19.0 in /usr/local/lib/python3.6/dist-packages (from scikit-image->efficientnet==1.0.0->segmentation_models) (1.4.1)\n",
            "Requirement already satisfied: pillow>=4.3.0 in /usr/local/lib/python3.6/dist-packages (from scikit-image->efficientnet==1.0.0->segmentation_models) (6.2.2)\n",
            "Requirement already satisfied: PyWavelets>=0.4.0 in /usr/local/lib/python3.6/dist-packages (from scikit-image->efficientnet==1.0.0->segmentation_models) (1.1.1)\n",
            "Requirement already satisfied: networkx>=2.0 in /usr/local/lib/python3.6/dist-packages (from scikit-image->efficientnet==1.0.0->segmentation_models) (2.4)\n",
            "Requirement already satisfied: six in /usr/local/lib/python3.6/dist-packages (from h5py->keras-applications<=1.0.8,>=1.0.7->segmentation_models) (1.12.0)\n",
            "Requirement already satisfied: kiwisolver>=1.0.1 in /usr/local/lib/python3.6/dist-packages (from matplotlib!=3.0.0,>=2.0.0->scikit-image->efficientnet==1.0.0->segmentation_models) (1.1.0)\n",
            "Requirement already satisfied: cycler>=0.10 in /usr/local/lib/python3.6/dist-packages (from matplotlib!=3.0.0,>=2.0.0->scikit-image->efficientnet==1.0.0->segmentation_models) (0.10.0)\n",
            "Requirement already satisfied: pyparsing!=2.0.4,!=2.1.2,!=2.1.6,>=2.0.1 in /usr/local/lib/python3.6/dist-packages (from matplotlib!=3.0.0,>=2.0.0->scikit-image->efficientnet==1.0.0->segmentation_models) (2.4.6)\n",
            "Requirement already satisfied: python-dateutil>=2.1 in /usr/local/lib/python3.6/dist-packages (from matplotlib!=3.0.0,>=2.0.0->scikit-image->efficientnet==1.0.0->segmentation_models) (2.6.1)\n",
            "Requirement already satisfied: decorator>=4.3.0 in /usr/local/lib/python3.6/dist-packages (from networkx>=2.0->scikit-image->efficientnet==1.0.0->segmentation_models) (4.4.1)\n",
            "Requirement already satisfied: setuptools in /usr/local/lib/python3.6/dist-packages (from kiwisolver>=1.0.1->matplotlib!=3.0.0,>=2.0.0->scikit-image->efficientnet==1.0.0->segmentation_models) (45.1.0)\n"
          ],
          "name": "stdout"
        }
      ]
    },
    {
      "cell_type": "code",
      "metadata": {
        "id": "akeb5l59GLHV",
        "colab_type": "code",
        "colab": {
          "base_uri": "https://localhost:8080/",
          "height": 34
        },
        "outputId": "6de781ac-ff63-4d43-ae4f-99ef95307451"
      },
      "source": [
        "data=data.reshape(-1,data.shape[-3],data.shape[-2],data.shape[-1])\n",
        "labels=labels.reshape(-1,labels.shape[-3],labels.shape[-2],labels.shape[-1])\n",
        "labels.shape"
      ],
      "execution_count": null,
      "outputs": [
        {
          "output_type": "execute_result",
          "data": {
            "text/plain": [
              "(12, 96, 96, 64)"
            ]
          },
          "metadata": {
            "tags": []
          },
          "execution_count": 144
        }
      ]
    },
    {
      "cell_type": "code",
      "metadata": {
        "id": "sm8j-a2C_sOG",
        "colab_type": "code",
        "colab": {
          "base_uri": "https://localhost:8080/",
          "height": 68
        },
        "outputId": "87524943-6ca7-4183-f1ef-32013121dc49"
      },
      "source": [
        "import segmentation_models as sm\n",
        "import keras\n",
        "keras.backend.set_image_data_format('channels_last')\n",
        "model = sm.Unet('resnet34', input_shape=(96,96,64), encoder_weights=None)\n",
        "model.compile(\n",
        "    'Adam',\n",
        "    loss=sm.losses.bce_jaccard_loss,\n",
        "    metrics=[sm.metrics.iou_score],\n",
        ")\n",
        "model.fit(data, data, batch_size=1, epochs=1)"
      ],
      "execution_count": null,
      "outputs": [
        {
          "output_type": "stream",
          "text": [
            "Epoch 1/1\n",
            "16/16 [==============================] - 46s 3s/step - loss: 0.8124 - iou_score: 0.3206\n"
          ],
          "name": "stdout"
        },
        {
          "output_type": "execute_result",
          "data": {
            "text/plain": [
              "<keras.callbacks.History at 0x7efd13308a90>"
            ]
          },
          "metadata": {
            "tags": []
          },
          "execution_count": 146
        }
      ]
    },
    {
      "cell_type": "markdown",
      "metadata": {
        "id": "VlrqEF7m7ist",
        "colab_type": "text"
      },
      "source": [
        "That's it!"
      ]
    },
    {
      "cell_type": "markdown",
      "metadata": {
        "id": "ZKerVpLQTRck",
        "colab_type": "text"
      },
      "source": [
        "## Closing Regards"
      ]
    },
    {
      "cell_type": "markdown",
      "metadata": {
        "id": "bkSxJbRx4SsO",
        "colab_type": "text"
      },
      "source": [
        "If you are resizing the segmentation mask, the resized segmentation mask retains the overall shape, but loses a lot of pixels and becomes somewhat 'grainy'. See the illustration below."
      ]
    },
    {
      "cell_type": "markdown",
      "metadata": {
        "id": "eAau6Z7hznFC",
        "colab_type": "text"
      },
      "source": [
        "1. Original segmentation mask:"
      ]
    },
    {
      "cell_type": "code",
      "metadata": {
        "id": "CXRW65_hkL9n",
        "colab_type": "code",
        "colab": {
          "base_uri": "https://localhost:8080/",
          "height": 336
        },
        "outputId": "4c42e648-b9fe-4176-a324-b15ca9be7db5"
      },
      "source": [
        "import matplotlib.pyplot as plt\n",
        "img = (read_img(seg[0])[100] == 2).astype(np.uint8)\n",
        "print(img.shape)\n",
        "print(np.unique(img))\n",
        "print(img.sum())\n",
        "plt.imshow(img, cmap='Greys_r')"
      ],
      "execution_count": null,
      "outputs": [
        {
          "output_type": "stream",
          "text": [
            "(240, 240)\n",
            "[0 1]\n",
            "2111\n"
          ],
          "name": "stdout"
        },
        {
          "output_type": "execute_result",
          "data": {
            "text/plain": [
              "<matplotlib.image.AxesImage at 0x7f2275c25be0>"
            ]
          },
          "metadata": {
            "tags": []
          },
          "execution_count": 109
        },
        {
          "output_type": "display_data",
          "data": {
            "image/png": "[encoded data removed]",
            "text/plain": [
              "<Figure size 432x288 with 1 Axes>"
            ]
          },
          "metadata": {
            "tags": []
          }
        }
      ]
    },
    {
      "cell_type": "markdown",
      "metadata": {
        "id": "soDTIJFn5CE9",
        "colab_type": "text"
      },
      "source": [
        "After resizing to (80, 96, 64)"
      ]
    },
    {
      "cell_type": "code",
      "metadata": {
        "id": "-kmgpXjsAMzj",
        "colab_type": "code",
        "colab": {
          "base_uri": "https://localhost:8080/",
          "height": 336
        },
        "outputId": "7eac8776-abc2-4334-a5b2-ffba151be588"
      },
      "source": [
        "img = preprocess_label(read_img(seg[0]), out_shape=(80, 96, 64), mode='nearest')[1][50]\n",
        "print(img.shape)\n",
        "print(np.unique(img))\n",
        "print(img.sum())\n",
        "plt.imshow(img, cmap='Greys_r')"
      ],
      "execution_count": null,
      "outputs": [
        {
          "output_type": "stream",
          "text": [
            "(96, 64)\n",
            "[0 1]\n",
            "116\n"
          ],
          "name": "stdout"
        },
        {
          "output_type": "execute_result",
          "data": {
            "text/plain": [
              "<matplotlib.image.AxesImage at 0x7f2275d5bc50>"
            ]
          },
          "metadata": {
            "tags": []
          },
          "execution_count": 105
        },
        {
          "output_type": "display_data",
          "data": {
            "image/png": "[encoded data removed]",
            "text/plain": [
              "<Figure size 432x288 with 1 Axes>"
            ]
          },
          "metadata": {
            "tags": []
          }
        }
      ]
    },
    {
      "cell_type": "markdown",
      "metadata": {
        "id": "FiGSgdqA5LGd",
        "colab_type": "text"
      },
      "source": [
        "One can clearly notice that there are now a lot of black pixels in the region where there should have been only white pixels. This can potentially hurt our model. So, it is best to not resize the image too much. But, due to computational constraints and the model requirements, it is unavoidable. \n",
        "\n",
        "However, given below are a few things one could try to reduce the downsampling noise as much as possible."
      ]
    },
    {
      "cell_type": "code",
      "metadata": {
        "id": "01FtsxQi6dts",
        "colab_type": "code",
        "colab": {}
      },
      "source": [
        "import cv2"
      ],
      "execution_count": null,
      "outputs": []
    },
    {
      "cell_type": "markdown",
      "metadata": {
        "id": "vbflvVYqz2yu",
        "colab_type": "text"
      },
      "source": [
        "- Original Image > preprocess_label > Morphological Closing"
      ]
    },
    {
      "cell_type": "code",
      "metadata": {
        "id": "vFn6tiXPsUdl",
        "colab_type": "code",
        "colab": {
          "base_uri": "https://localhost:8080/",
          "height": 319
        },
        "outputId": "b7474d73-2f00-4c25-8968-4f740e5a2510"
      },
      "source": [
        "kernel = np.ones((3, 3))\n",
        "img_closed = cv2.morphologyEx(img, cv2.MORPH_CLOSE, kernel, iterations=3)\n",
        "print(np.unique(img_closed))\n",
        "print(img_closed.sum())\n",
        "plt.imshow(img_closed, cmap='Greys_r')"
      ],
      "execution_count": null,
      "outputs": [
        {
          "output_type": "stream",
          "text": [
            "[0 1]\n",
            "491\n"
          ],
          "name": "stdout"
        },
        {
          "output_type": "execute_result",
          "data": {
            "text/plain": [
              "<matplotlib.image.AxesImage at 0x7f227dc26160>"
            ]
          },
          "metadata": {
            "tags": []
          },
          "execution_count": 97
        },
        {
          "output_type": "display_data",
          "data": {
            "image/png": "[encoded data removed]",
            "text/plain": [
              "<Figure size 432x288 with 1 Axes>"
            ]
          },
          "metadata": {
            "tags": []
          }
        }
      ]
    },
    {
      "cell_type": "markdown",
      "metadata": {
        "id": "17CKK5zQz7hs",
        "colab_type": "text"
      },
      "source": [
        "- Original Image > preprocess_label > Morphological Dilation"
      ]
    },
    {
      "cell_type": "code",
      "metadata": {
        "id": "bxhKa3kKtCLZ",
        "colab_type": "code",
        "colab": {
          "base_uri": "https://localhost:8080/",
          "height": 319
        },
        "outputId": "7ee710b6-c5ed-4e9c-e2f0-935357e1bf0c"
      },
      "source": [
        "kernel = np.ones((3, 3))\n",
        "img_dilated = cv2.dilate(img, kernel, iterations=1)\n",
        "print(np.unique(img_dilated))\n",
        "print(img_dilated.sum())\n",
        "plt.imshow(img_dilated, cmap='Greys_r')"
      ],
      "execution_count": null,
      "outputs": [
        {
          "output_type": "stream",
          "text": [
            "[0 1]\n",
            "660\n"
          ],
          "name": "stdout"
        },
        {
          "output_type": "execute_result",
          "data": {
            "text/plain": [
              "<matplotlib.image.AxesImage at 0x7f227db77d30>"
            ]
          },
          "metadata": {
            "tags": []
          },
          "execution_count": 98
        },
        {
          "output_type": "display_data",
          "data": {
            "image/png": "[encoded data removed]",
            "text/plain": [
              "<Figure size 432x288 with 1 Axes>"
            ]
          },
          "metadata": {
            "tags": []
          }
        }
      ]
    },
    {
      "cell_type": "markdown",
      "metadata": {
        "id": "gG3vfTyS0BVe",
        "colab_type": "text"
      },
      "source": [
        "You could try these things to get even better results."
      ]
    },
    {
      "cell_type": "markdown",
      "metadata": {
        "id": "CX6Cj1VO6vrZ",
        "colab_type": "text"
      },
      "source": [
        "## Feedback"
      ]
    },
    {
      "cell_type": "markdown",
      "metadata": {
        "id": "ZPt_15Ps6vO1",
        "colab_type": "text"
      },
      "source": [
        "If you have any feedback, queries, bug reports to send, please feel free to [raise an issue](https://github.com/IAmSuyogJadhav/3d-mri-brain-tumor-segmentation-using-autoencoder-regularization/issues/new) on github. It would be really helpful!"
      ]
    }
  ]
}